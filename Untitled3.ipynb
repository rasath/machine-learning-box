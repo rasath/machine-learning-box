{
  "nbformat": 4,
  "nbformat_minor": 0,
  "metadata": {
    "colab": {
      "name": "Untitled3.ipynb",
      "provenance": [],
      "collapsed_sections": [],
      "include_colab_link": true
    },
    "kernelspec": {
      "name": "python3",
      "display_name": "Python 3"
    }
  },
  "cells": [
    {
      "cell_type": "markdown",
      "metadata": {
        "id": "view-in-github",
        "colab_type": "text"
      },
      "source": [
        "<a href=\"https://colab.research.google.com/github/rasath/machine-learning-box/blob/master/Untitled3.ipynb\" target=\"_parent\"><img src=\"https://colab.research.google.com/assets/colab-badge.svg\" alt=\"Open In Colab\"/></a>"
      ]
    },
    {
      "cell_type": "code",
      "metadata": {
        "id": "9mso-qqTZYP5",
        "colab_type": "code",
        "colab": {}
      },
      "source": [
        "#import lib\n",
        "import math\n",
        "import pandas_datareader as web\n",
        "import numpy as np\n",
        "import pandas as pd\n",
        "from sklearn.preprocessing import MinMaxScaler\n",
        "from keras.models import Sequential\n",
        "from keras.layers import Dense, LSTM\n",
        "import matplotlib.pyplot as plt\n",
        "plt.style.use('fivethirtyeight')\n"
      ],
      "execution_count": 0,
      "outputs": []
    },
    {
      "cell_type": "code",
      "metadata": {
        "id": "Zu_vd9t7dAPj",
        "colab_type": "code",
        "colab": {
          "base_uri": "https://localhost:8080/",
          "height": 431
        },
        "outputId": "bb34341a-eac6-49c5-b37b-a1b9c3166ac3"
      },
      "source": [
        "#get the stock code\n",
        "df = web.DataReader('AMD', data_source='yahoo', start='2012-01-01', end='2019-12-31')\n",
        "#show data\n",
        "df"
      ],
      "execution_count": 7,
      "outputs": [
        {
          "output_type": "execute_result",
          "data": {
            "text/html": [
              "<div>\n",
              "<style scoped>\n",
              "    .dataframe tbody tr th:only-of-type {\n",
              "        vertical-align: middle;\n",
              "    }\n",
              "\n",
              "    .dataframe tbody tr th {\n",
              "        vertical-align: top;\n",
              "    }\n",
              "\n",
              "    .dataframe thead th {\n",
              "        text-align: right;\n",
              "    }\n",
              "</style>\n",
              "<table border=\"1\" class=\"dataframe\">\n",
              "  <thead>\n",
              "    <tr style=\"text-align: right;\">\n",
              "      <th></th>\n",
              "      <th>High</th>\n",
              "      <th>Low</th>\n",
              "      <th>Open</th>\n",
              "      <th>Close</th>\n",
              "      <th>Volume</th>\n",
              "      <th>Adj Close</th>\n",
              "    </tr>\n",
              "    <tr>\n",
              "      <th>Date</th>\n",
              "      <th></th>\n",
              "      <th></th>\n",
              "      <th></th>\n",
              "      <th></th>\n",
              "      <th></th>\n",
              "      <th></th>\n",
              "    </tr>\n",
              "  </thead>\n",
              "  <tbody>\n",
              "    <tr>\n",
              "      <th>2012-01-03</th>\n",
              "      <td>5.590000</td>\n",
              "      <td>5.440000</td>\n",
              "      <td>5.530000</td>\n",
              "      <td>5.480000</td>\n",
              "      <td>12675100</td>\n",
              "      <td>5.480000</td>\n",
              "    </tr>\n",
              "    <tr>\n",
              "      <th>2012-01-04</th>\n",
              "      <td>5.490000</td>\n",
              "      <td>5.410000</td>\n",
              "      <td>5.470000</td>\n",
              "      <td>5.460000</td>\n",
              "      <td>8034900</td>\n",
              "      <td>5.460000</td>\n",
              "    </tr>\n",
              "    <tr>\n",
              "      <th>2012-01-05</th>\n",
              "      <td>5.570000</td>\n",
              "      <td>5.350000</td>\n",
              "      <td>5.450000</td>\n",
              "      <td>5.460000</td>\n",
              "      <td>11476900</td>\n",
              "      <td>5.460000</td>\n",
              "    </tr>\n",
              "    <tr>\n",
              "      <th>2012-01-06</th>\n",
              "      <td>5.520000</td>\n",
              "      <td>5.390000</td>\n",
              "      <td>5.440000</td>\n",
              "      <td>5.430000</td>\n",
              "      <td>12938600</td>\n",
              "      <td>5.430000</td>\n",
              "    </tr>\n",
              "    <tr>\n",
              "      <th>2012-01-09</th>\n",
              "      <td>5.600000</td>\n",
              "      <td>5.380000</td>\n",
              "      <td>5.420000</td>\n",
              "      <td>5.590000</td>\n",
              "      <td>12585400</td>\n",
              "      <td>5.590000</td>\n",
              "    </tr>\n",
              "    <tr>\n",
              "      <th>...</th>\n",
              "      <td>...</td>\n",
              "      <td>...</td>\n",
              "      <td>...</td>\n",
              "      <td>...</td>\n",
              "      <td>...</td>\n",
              "      <td>...</td>\n",
              "    </tr>\n",
              "    <tr>\n",
              "      <th>2019-12-20</th>\n",
              "      <td>44.259998</td>\n",
              "      <td>43.259998</td>\n",
              "      <td>43.439999</td>\n",
              "      <td>44.150002</td>\n",
              "      <td>68104700</td>\n",
              "      <td>44.150002</td>\n",
              "    </tr>\n",
              "    <tr>\n",
              "      <th>2019-12-23</th>\n",
              "      <td>45.630001</td>\n",
              "      <td>44.389999</td>\n",
              "      <td>44.580002</td>\n",
              "      <td>45.459999</td>\n",
              "      <td>55886500</td>\n",
              "      <td>45.459999</td>\n",
              "    </tr>\n",
              "    <tr>\n",
              "      <th>2019-12-24</th>\n",
              "      <td>46.610001</td>\n",
              "      <td>45.770000</td>\n",
              "      <td>46.099998</td>\n",
              "      <td>46.540001</td>\n",
              "      <td>44432200</td>\n",
              "      <td>46.540001</td>\n",
              "    </tr>\n",
              "    <tr>\n",
              "      <th>2019-12-26</th>\n",
              "      <td>47.310001</td>\n",
              "      <td>45.660000</td>\n",
              "      <td>46.990002</td>\n",
              "      <td>46.630001</td>\n",
              "      <td>57562800</td>\n",
              "      <td>46.630001</td>\n",
              "    </tr>\n",
              "    <tr>\n",
              "      <th>2019-12-27</th>\n",
              "      <td>46.880001</td>\n",
              "      <td>46.080002</td>\n",
              "      <td>46.849998</td>\n",
              "      <td>46.180698</td>\n",
              "      <td>33079648</td>\n",
              "      <td>46.180698</td>\n",
              "    </tr>\n",
              "  </tbody>\n",
              "</table>\n",
              "<p>2010 rows × 6 columns</p>\n",
              "</div>"
            ],
            "text/plain": [
              "                 High        Low       Open      Close    Volume  Adj Close\n",
              "Date                                                                       \n",
              "2012-01-03   5.590000   5.440000   5.530000   5.480000  12675100   5.480000\n",
              "2012-01-04   5.490000   5.410000   5.470000   5.460000   8034900   5.460000\n",
              "2012-01-05   5.570000   5.350000   5.450000   5.460000  11476900   5.460000\n",
              "2012-01-06   5.520000   5.390000   5.440000   5.430000  12938600   5.430000\n",
              "2012-01-09   5.600000   5.380000   5.420000   5.590000  12585400   5.590000\n",
              "...               ...        ...        ...        ...       ...        ...\n",
              "2019-12-20  44.259998  43.259998  43.439999  44.150002  68104700  44.150002\n",
              "2019-12-23  45.630001  44.389999  44.580002  45.459999  55886500  45.459999\n",
              "2019-12-24  46.610001  45.770000  46.099998  46.540001  44432200  46.540001\n",
              "2019-12-26  47.310001  45.660000  46.990002  46.630001  57562800  46.630001\n",
              "2019-12-27  46.880001  46.080002  46.849998  46.180698  33079648  46.180698\n",
              "\n",
              "[2010 rows x 6 columns]"
            ]
          },
          "metadata": {
            "tags": []
          },
          "execution_count": 7
        }
      ]
    },
    {
      "cell_type": "code",
      "metadata": {
        "id": "vIgrcnIDeWTJ",
        "colab_type": "code",
        "colab": {
          "base_uri": "https://localhost:8080/",
          "height": 34
        },
        "outputId": "43a6dfd2-7650-48c8-c988-e5aa86665aaf"
      },
      "source": [
        "#Number of raws and colums in the data set\n",
        "df.shape"
      ],
      "execution_count": 8,
      "outputs": [
        {
          "output_type": "execute_result",
          "data": {
            "text/plain": [
              "(2010, 6)"
            ]
          },
          "metadata": {
            "tags": []
          },
          "execution_count": 8
        }
      ]
    },
    {
      "cell_type": "code",
      "metadata": {
        "id": "Pvg2jKgoeqBL",
        "colab_type": "code",
        "colab": {
          "base_uri": "https://localhost:8080/",
          "height": 696
        },
        "outputId": "c5a1133e-bc90-481c-fda6-50e85043b69c"
      },
      "source": [
        "#visualize the closing price\n",
        "plt.figure(figsize=(16,8))\n",
        "plt.title('close price History')\n",
        "plt.plot(df['Close'])\n",
        "plt.xlabel('Date', fontsize=18)\n",
        "plt.ylabel('Close price USD ($)', fontsize=18)\n",
        "plt.show"
      ],
      "execution_count": 9,
      "outputs": [
        {
          "output_type": "stream",
          "text": [
            "/usr/local/lib/python3.6/dist-packages/pandas/plotting/_matplotlib/converter.py:103: FutureWarning: Using an implicitly registered datetime converter for a matplotlib plotting method. The converter was registered by pandas on import. Future versions of pandas will require you to explicitly register matplotlib converters.\n",
            "\n",
            "To register the converters:\n",
            "\t>>> from pandas.plotting import register_matplotlib_converters\n",
            "\t>>> register_matplotlib_converters()\n",
            "  warnings.warn(msg, FutureWarning)\n"
          ],
          "name": "stderr"
        },
        {
          "output_type": "execute_result",
          "data": {
            "text/plain": [
              "<function matplotlib.pyplot.show>"
            ]
          },
          "metadata": {
            "tags": []
          },
          "execution_count": 9
        },
        {
          "output_type": "display_data",
          "data": {
            "image/png": "[encoded data removed]",
            "text/plain": [
              "<Figure size 1152x576 with 1 Axes>"
            ]
          },
          "metadata": {
            "tags": []
          }
        }
      ]
    },
    {
      "cell_type": "code",
      "metadata": {
        "id": "8NRni5ZhgbbV",
        "colab_type": "code",
        "colab": {
          "base_uri": "https://localhost:8080/",
          "height": 34
        },
        "outputId": "92e6a881-ad9a-45e6-f0ce-4cb2fd48a909"
      },
      "source": [
        "#craete new data frame only with close colum\n",
        "data = df.filter(['Close'])\n",
        "#convert dataframe to numpy array\n",
        "dataset = data.values\n",
        "#get the number of raws to train the model on\n",
        "training_data_len = math.ceil( len(dataset) * .8 )\n",
        "training_data_len"
      ],
      "execution_count": 10,
      "outputs": [
        {
          "output_type": "execute_result",
          "data": {
            "text/plain": [
              "1608"
            ]
          },
          "metadata": {
            "tags": []
          },
          "execution_count": 10
        }
      ]
    },
    {
      "cell_type": "code",
      "metadata": {
        "id": "kMYmAnXDh9un",
        "colab_type": "code",
        "colab": {
          "base_uri": "https://localhost:8080/",
          "height": 134
        },
        "outputId": "8abcdf9a-e627-416a-8c8e-9715e5077d52"
      },
      "source": [
        "#scale the data\n",
        "scaler = MinMaxScaler(feature_range=(0,1))\n",
        "scaled_data = scaler.fit_transform(dataset)\n",
        "scaled_data"
      ],
      "execution_count": 11,
      "outputs": [
        {
          "output_type": "execute_result",
          "data": {
            "text/plain": [
              "array([[0.08575872],\n",
              "       [0.08531437],\n",
              "       [0.08531437],\n",
              "       ...,\n",
              "       [0.99800044],\n",
              "       [1.        ],\n",
              "       [0.99001771]])"
            ]
          },
          "metadata": {
            "tags": []
          },
          "execution_count": 11
        }
      ]
    },
    {
      "cell_type": "code",
      "metadata": {
        "id": "mxdqnkCni2pz",
        "colab_type": "code",
        "colab": {
          "base_uri": "https://localhost:8080/",
          "height": 672
        },
        "outputId": "1b14b436-a4cb-40be-c471-c447d928c463"
      },
      "source": [
        "#training dataset\n",
        "#create scaled training dataset\n",
        "train_data = scaled_data[0:training_data_len , :]\n",
        "#split the data into x train and y train data set\n",
        "x_train = []\n",
        "y_train = []\n",
        "\n",
        "for i in range(60, len(train_data)):\n",
        "  x_train.append(train_data[i-60:i, 0])\n",
        "  y_train.append(train_data[i, 0])\n",
        "  if i<= 61:\n",
        "    print(x_train)\n",
        "    print(y_train)\n",
        "    print()"
      ],
      "execution_count": 12,
      "outputs": [
        {
          "output_type": "stream",
          "text": [
            "[array([0.08575872, 0.08531437, 0.08531437, 0.08464785, 0.08820262,\n",
            "       0.09086869, 0.09309042, 0.0933126 , 0.08975783, 0.09131304,\n",
            "       0.09664518, 0.1021995 , 0.10664297, 0.10886469, 0.10908687,\n",
            "       0.11353032, 0.11441901, 0.11552988, 0.11375249, 0.11308598,\n",
            "       0.11730726, 0.11797378, 0.12130637, 0.11775161, 0.12241724,\n",
            "       0.12508331, 0.12486113, 0.12063986, 0.125972  , 0.12663853,\n",
            "       0.12619418, 0.13263719, 0.12886025, 0.12574983, 0.12263941,\n",
            "       0.125972  , 0.12974894, 0.12997111, 0.13108198, 0.12730504,\n",
            "       0.13085981, 0.12974894, 0.1210842 , 0.11730726, 0.12330593,\n",
            "       0.12997111, 0.13241501, 0.13063763, 0.13641413, 0.13641413,\n",
            "       0.1473006 , 0.14618973, 0.14574539, 0.14307932, 0.14263497,\n",
            "       0.14241279, 0.14374583, 0.14707842, 0.14596755, 0.14352366])]\n",
            "[0.14441234675028428]\n",
            "\n",
            "[array([0.08575872, 0.08531437, 0.08531437, 0.08464785, 0.08820262,\n",
            "       0.09086869, 0.09309042, 0.0933126 , 0.08975783, 0.09131304,\n",
            "       0.09664518, 0.1021995 , 0.10664297, 0.10886469, 0.10908687,\n",
            "       0.11353032, 0.11441901, 0.11552988, 0.11375249, 0.11308598,\n",
            "       0.11730726, 0.11797378, 0.12130637, 0.11775161, 0.12241724,\n",
            "       0.12508331, 0.12486113, 0.12063986, 0.125972  , 0.12663853,\n",
            "       0.12619418, 0.13263719, 0.12886025, 0.12574983, 0.12263941,\n",
            "       0.125972  , 0.12974894, 0.12997111, 0.13108198, 0.12730504,\n",
            "       0.13085981, 0.12974894, 0.1210842 , 0.11730726, 0.12330593,\n",
            "       0.12997111, 0.13241501, 0.13063763, 0.13641413, 0.13641413,\n",
            "       0.1473006 , 0.14618973, 0.14574539, 0.14307932, 0.14263497,\n",
            "       0.14241279, 0.14374583, 0.14707842, 0.14596755, 0.14352366]), array([0.08531437, 0.08531437, 0.08464785, 0.08820262, 0.09086869,\n",
            "       0.09309042, 0.0933126 , 0.08975783, 0.09131304, 0.09664518,\n",
            "       0.1021995 , 0.10664297, 0.10886469, 0.10908687, 0.11353032,\n",
            "       0.11441901, 0.11552988, 0.11375249, 0.11308598, 0.11730726,\n",
            "       0.11797378, 0.12130637, 0.11775161, 0.12241724, 0.12508331,\n",
            "       0.12486113, 0.12063986, 0.125972  , 0.12663853, 0.12619418,\n",
            "       0.13263719, 0.12886025, 0.12574983, 0.12263941, 0.125972  ,\n",
            "       0.12974894, 0.12997111, 0.13108198, 0.12730504, 0.13085981,\n",
            "       0.12974894, 0.1210842 , 0.11730726, 0.12330593, 0.12997111,\n",
            "       0.13241501, 0.13063763, 0.13641413, 0.13641413, 0.1473006 ,\n",
            "       0.14618973, 0.14574539, 0.14307932, 0.14263497, 0.14241279,\n",
            "       0.14374583, 0.14707842, 0.14596755, 0.14352366, 0.14441235])]\n",
            "[0.14441234675028428, 0.14219063101082735]\n",
            "\n"
          ],
          "name": "stdout"
        }
      ]
    },
    {
      "cell_type": "code",
      "metadata": {
        "id": "Krm5HHIGlfxP",
        "colab_type": "code",
        "colab": {}
      },
      "source": [
        "#convert x train and y train to numpy\n",
        "x_train, y_train = np.array(x_train), np.array(y_train)"
      ],
      "execution_count": 0,
      "outputs": []
    },
    {
      "cell_type": "code",
      "metadata": {
        "id": "-by1Ckzfl_mH",
        "colab_type": "code",
        "colab": {
          "base_uri": "https://localhost:8080/",
          "height": 34
        },
        "outputId": "6acbfe95-df18-498b-f871-84c8182ad3ee"
      },
      "source": [
        "#reshape the data\n",
        "x_train = np.reshape(x_train, (x_train.shape[0], x_train.shape[1], 1))\n",
        "x_train.shape"
      ],
      "execution_count": 14,
      "outputs": [
        {
          "output_type": "execute_result",
          "data": {
            "text/plain": [
              "(1548, 60, 1)"
            ]
          },
          "metadata": {
            "tags": []
          },
          "execution_count": 14
        }
      ]
    },
    {
      "cell_type": "code",
      "metadata": {
        "id": "Woq__jUgm1rI",
        "colab_type": "code",
        "colab": {
          "base_uri": "https://localhost:8080/",
          "height": 138
        },
        "outputId": "c9342d3a-8242-4b01-ff2d-2706afd80d6b"
      },
      "source": [
        "#build LSTM model\n",
        "model = Sequential()\n",
        "model.add(LSTM(50, return_sequences=True, input_shape= (x_train.shape[1], 1)))\n",
        "model.add(LSTM(50, return_sequences= False))\n",
        "model.add(Dense(25))\n",
        "model.add(Dense(1))"
      ],
      "execution_count": 15,
      "outputs": [
        {
          "output_type": "stream",
          "text": [
            "WARNING:tensorflow:From /usr/local/lib/python3.6/dist-packages/keras/backend/tensorflow_backend.py:66: The name tf.get_default_graph is deprecated. Please use tf.compat.v1.get_default_graph instead.\n",
            "\n",
            "WARNING:tensorflow:From /usr/local/lib/python3.6/dist-packages/keras/backend/tensorflow_backend.py:541: The name tf.placeholder is deprecated. Please use tf.compat.v1.placeholder instead.\n",
            "\n",
            "WARNING:tensorflow:From /usr/local/lib/python3.6/dist-packages/keras/backend/tensorflow_backend.py:4432: The name tf.random_uniform is deprecated. Please use tf.random.uniform instead.\n",
            "\n"
          ],
          "name": "stdout"
        }
      ]
    },
    {
      "cell_type": "code",
      "metadata": {
        "id": "btBd-N0LsMTO",
        "colab_type": "code",
        "colab": {
          "base_uri": "https://localhost:8080/",
          "height": 50
        },
        "outputId": "f8f8f328-ef9b-414b-a454-d54a1834465a"
      },
      "source": [
        "#compile the model\n",
        "model.compile(optimizer='adam', loss='mean_squared_error')"
      ],
      "execution_count": 16,
      "outputs": [
        {
          "output_type": "stream",
          "text": [
            "WARNING:tensorflow:From /usr/local/lib/python3.6/dist-packages/keras/optimizers.py:793: The name tf.train.Optimizer is deprecated. Please use tf.compat.v1.train.Optimizer instead.\n",
            "\n"
          ],
          "name": "stdout"
        }
      ]
    },
    {
      "cell_type": "code",
      "metadata": {
        "id": "RL6TLBX-uiTl",
        "colab_type": "code",
        "colab": {
          "base_uri": "https://localhost:8080/",
          "height": 406
        },
        "outputId": "d4356f5d-b937-4afc-916d-ce8953b6ecd7"
      },
      "source": [
        "#train the model\n",
        "model.fit(x_train, y_train, batch_size=1, epochs=1)"
      ],
      "execution_count": 17,
      "outputs": [
        {
          "output_type": "stream",
          "text": [
            "WARNING:tensorflow:From /usr/local/lib/python3.6/dist-packages/tensorflow_core/python/ops/math_grad.py:1424: where (from tensorflow.python.ops.array_ops) is deprecated and will be removed in a future version.\n",
            "Instructions for updating:\n",
            "Use tf.where in 2.0, which has the same broadcast rule as np.where\n",
            "WARNING:tensorflow:From /usr/local/lib/python3.6/dist-packages/keras/backend/tensorflow_backend.py:1033: The name tf.assign_add is deprecated. Please use tf.compat.v1.assign_add instead.\n",
            "\n",
            "WARNING:tensorflow:From /usr/local/lib/python3.6/dist-packages/keras/backend/tensorflow_backend.py:1020: The name tf.assign is deprecated. Please use tf.compat.v1.assign instead.\n",
            "\n",
            "WARNING:tensorflow:From /usr/local/lib/python3.6/dist-packages/keras/backend/tensorflow_backend.py:3005: The name tf.Session is deprecated. Please use tf.compat.v1.Session instead.\n",
            "\n",
            "Epoch 1/1\n",
            "WARNING:tensorflow:From /usr/local/lib/python3.6/dist-packages/keras/backend/tensorflow_backend.py:190: The name tf.get_default_session is deprecated. Please use tf.compat.v1.get_default_session instead.\n",
            "\n",
            "WARNING:tensorflow:From /usr/local/lib/python3.6/dist-packages/keras/backend/tensorflow_backend.py:197: The name tf.ConfigProto is deprecated. Please use tf.compat.v1.ConfigProto instead.\n",
            "\n",
            "WARNING:tensorflow:From /usr/local/lib/python3.6/dist-packages/keras/backend/tensorflow_backend.py:207: The name tf.global_variables is deprecated. Please use tf.compat.v1.global_variables instead.\n",
            "\n",
            "WARNING:tensorflow:From /usr/local/lib/python3.6/dist-packages/keras/backend/tensorflow_backend.py:216: The name tf.is_variable_initialized is deprecated. Please use tf.compat.v1.is_variable_initialized instead.\n",
            "\n",
            "WARNING:tensorflow:From /usr/local/lib/python3.6/dist-packages/keras/backend/tensorflow_backend.py:223: The name tf.variables_initializer is deprecated. Please use tf.compat.v1.variables_initializer instead.\n",
            "\n",
            "1548/1548 [==============================] - 106s 69ms/step - loss: 3.3166e-04\n"
          ],
          "name": "stdout"
        },
        {
          "output_type": "execute_result",
          "data": {
            "text/plain": [
              "<keras.callbacks.History at 0x7f348bfb9320>"
            ]
          },
          "metadata": {
            "tags": []
          },
          "execution_count": 17
        }
      ]
    },
    {
      "cell_type": "code",
      "metadata": {
        "id": "oLU6Ybp7vVhu",
        "colab_type": "code",
        "colab": {}
      },
      "source": [
        "#create testing dataset\n",
        "#create new arraycontaing scaled values from index\n",
        "test_data = scaled_data[training_data_len - 60: , :]\n",
        "#create the data sets x_test and y_test\n",
        "x_test = []\n",
        "y_test = dataset[training_data_len:, :]\n",
        "for i in range(60, len(test_data)):\n",
        "  x_test.append(test_data[i-60:i, 0])"
      ],
      "execution_count": 0,
      "outputs": []
    },
    {
      "cell_type": "code",
      "metadata": {
        "id": "pZWlhZZzxC7O",
        "colab_type": "code",
        "colab": {}
      },
      "source": [
        "#convert the data to a numpy\n",
        "x_test = np.array(x_test)\n"
      ],
      "execution_count": 0,
      "outputs": []
    },
    {
      "cell_type": "code",
      "metadata": {
        "id": "Xhzus-eCxW6x",
        "colab_type": "code",
        "colab": {}
      },
      "source": [
        "#reshape the data\n",
        "x_test = np.reshape(x_test, (x_test.shape[0], x_test.shape[1], 1 ))"
      ],
      "execution_count": 0,
      "outputs": []
    },
    {
      "cell_type": "code",
      "metadata": {
        "id": "bTtsgn3dx5xT",
        "colab_type": "code",
        "colab": {}
      },
      "source": [
        "#model predicted price value\n",
        "predictions = model.predict(x_test)\n",
        "predictions = scaler.inverse_transform(predictions)"
      ],
      "execution_count": 0,
      "outputs": []
    },
    {
      "cell_type": "code",
      "metadata": {
        "id": "ZR1tou7hygEi",
        "colab_type": "code",
        "colab": {
          "base_uri": "https://localhost:8080/",
          "height": 34
        },
        "outputId": "15714e13-229b-45af-862e-5161fd0d95bc"
      },
      "source": [
        "#get teeroot mean squared error (RMSE)\n",
        "rmse = np.sqrt( np.mean( predictions - y_test )**2 )\n",
        "rmse"
      ],
      "execution_count": 22,
      "outputs": [
        {
          "output_type": "execute_result",
          "data": {
            "text/plain": [
              "3.930895100778608"
            ]
          },
          "metadata": {
            "tags": []
          },
          "execution_count": 22
        }
      ]
    },
    {
      "cell_type": "code",
      "metadata": {
        "id": "xY40536lzGpI",
        "colab_type": "code",
        "colab": {
          "base_uri": "https://localhost:8080/",
          "height": 659
        },
        "outputId": "3f66561c-e513-4e06-b32f-d7e7194301ae"
      },
      "source": [
        "#plot the data\n",
        "train = data[:training_data_len]\n",
        "valid = data[training_data_len:]\n",
        "valid['Predictions'] = predictions\n",
        "#visualize the data\n",
        "plt.figure(figsize=(16,8))\n",
        "plt.title('model')\n",
        "plt.xlabel('Date', fontsize=18)\n",
        "plt.ylabel('Close Price USD ($)', fontsize=18)\n",
        "plt.plot(train['Close'])\n",
        "plt.plot(valid[['Close', 'Predictions']])\n",
        "plt.legend(['Train', 'Val', 'Predictions'], loc='lower right')\n",
        "plt.show()\n",
        "\n"
      ],
      "execution_count": 23,
      "outputs": [
        {
          "output_type": "stream",
          "text": [
            "/usr/local/lib/python3.6/dist-packages/ipykernel_launcher.py:3: SettingWithCopyWarning: \n",
            "A value is trying to be set on a copy of a slice from a DataFrame.\n",
            "Try using .loc[row_indexer,col_indexer] = value instead\n",
            "\n",
            "See the caveats in the documentation: http://pandas.pydata.org/pandas-docs/stable/user_guide/indexing.html#returning-a-view-versus-a-copy\n",
            "  This is separate from the ipykernel package so we can avoid doing imports until\n"
          ],
          "name": "stderr"
        },
        {
          "output_type": "display_data",
          "data": {
            "image/png": "[encoded data removed]",
            "text/plain": [
              "<Figure size 1152x576 with 1 Axes>"
            ]
          },
          "metadata": {
            "tags": []
          }
        }
      ]
    },
    {
      "cell_type": "code",
      "metadata": {
        "id": "QyMnVv-c3eul",
        "colab_type": "code",
        "colab": {
          "base_uri": "https://localhost:8080/",
          "height": 431
        },
        "outputId": "0511c85a-0d79-4dda-fbf9-11d072cd32b9"
      },
      "source": [
        "#show the valid and predicted prices\n",
        "valid"
      ],
      "execution_count": 24,
      "outputs": [
        {
          "output_type": "execute_result",
          "data": {
            "text/html": [
              "<div>\n",
              "<style scoped>\n",
              "    .dataframe tbody tr th:only-of-type {\n",
              "        vertical-align: middle;\n",
              "    }\n",
              "\n",
              "    .dataframe tbody tr th {\n",
              "        vertical-align: top;\n",
              "    }\n",
              "\n",
              "    .dataframe thead th {\n",
              "        text-align: right;\n",
              "    }\n",
              "</style>\n",
              "<table border=\"1\" class=\"dataframe\">\n",
              "  <thead>\n",
              "    <tr style=\"text-align: right;\">\n",
              "      <th></th>\n",
              "      <th>Close</th>\n",
              "      <th>Predictions</th>\n",
              "    </tr>\n",
              "    <tr>\n",
              "      <th>Date</th>\n",
              "      <th></th>\n",
              "      <th></th>\n",
              "    </tr>\n",
              "  </thead>\n",
              "  <tbody>\n",
              "    <tr>\n",
              "      <th>2018-05-24</th>\n",
              "      <td>13.410000</td>\n",
              "      <td>11.117686</td>\n",
              "    </tr>\n",
              "    <tr>\n",
              "      <th>2018-05-25</th>\n",
              "      <td>13.540000</td>\n",
              "      <td>11.226145</td>\n",
              "    </tr>\n",
              "    <tr>\n",
              "      <th>2018-05-29</th>\n",
              "      <td>13.360000</td>\n",
              "      <td>11.346111</td>\n",
              "    </tr>\n",
              "    <tr>\n",
              "      <th>2018-05-30</th>\n",
              "      <td>13.820000</td>\n",
              "      <td>11.425960</td>\n",
              "    </tr>\n",
              "    <tr>\n",
              "      <th>2018-05-31</th>\n",
              "      <td>13.730000</td>\n",
              "      <td>11.542807</td>\n",
              "    </tr>\n",
              "    <tr>\n",
              "      <th>...</th>\n",
              "      <td>...</td>\n",
              "      <td>...</td>\n",
              "    </tr>\n",
              "    <tr>\n",
              "      <th>2019-12-20</th>\n",
              "      <td>44.150002</td>\n",
              "      <td>35.460758</td>\n",
              "    </tr>\n",
              "    <tr>\n",
              "      <th>2019-12-23</th>\n",
              "      <td>45.459999</td>\n",
              "      <td>35.841110</td>\n",
              "    </tr>\n",
              "    <tr>\n",
              "      <th>2019-12-24</th>\n",
              "      <td>46.540001</td>\n",
              "      <td>36.377296</td>\n",
              "    </tr>\n",
              "    <tr>\n",
              "      <th>2019-12-26</th>\n",
              "      <td>46.630001</td>\n",
              "      <td>37.018967</td>\n",
              "    </tr>\n",
              "    <tr>\n",
              "      <th>2019-12-27</th>\n",
              "      <td>46.180698</td>\n",
              "      <td>37.591385</td>\n",
              "    </tr>\n",
              "  </tbody>\n",
              "</table>\n",
              "<p>402 rows × 2 columns</p>\n",
              "</div>"
            ],
            "text/plain": [
              "                Close  Predictions\n",
              "Date                              \n",
              "2018-05-24  13.410000    11.117686\n",
              "2018-05-25  13.540000    11.226145\n",
              "2018-05-29  13.360000    11.346111\n",
              "2018-05-30  13.820000    11.425960\n",
              "2018-05-31  13.730000    11.542807\n",
              "...               ...          ...\n",
              "2019-12-20  44.150002    35.460758\n",
              "2019-12-23  45.459999    35.841110\n",
              "2019-12-24  46.540001    36.377296\n",
              "2019-12-26  46.630001    37.018967\n",
              "2019-12-27  46.180698    37.591385\n",
              "\n",
              "[402 rows x 2 columns]"
            ]
          },
          "metadata": {
            "tags": []
          },
          "execution_count": 24
        }
      ]
    },
    {
      "cell_type": "code",
      "metadata": {
        "id": "2fhBuu-n30wJ",
        "colab_type": "code",
        "colab": {
          "base_uri": "https://localhost:8080/",
          "height": 34
        },
        "outputId": "2606e541-5ceb-46ab-b5fb-ce85885c1eab"
      },
      "source": [
        "#get the quote\n",
        "apple_quoate = web.DataReader('AMD', data_source='yahoo', start='2012-01-01', end='2019-12-31')\n",
        "#create a anew data frame\n",
        "new_df = apple_quoate.filter(['Close'])\n",
        "#get the last 60 days = new closing price\n",
        "last_60_days = new_df[-60:].values\n",
        "#scale the data to ber values between 0 and 1\n",
        "last_60_days_scaled = scaler.transform(last_60_days)\n",
        "#create an empty list\n",
        "x_test = []\n",
        "#append teh past 60 days\n",
        "x_test.append(last_60_days_scaled)\n",
        "#convert the x_test data set sent to numpy array\n",
        "x_test = np.array(x_test)\n",
        "#reshape the data\n",
        "x_test = np.reshape(x_test, (x_test.shape[0], x_test.shape[1], 1))\n",
        "#get the predicted scaled price\n",
        "pred_price = model.predict(x_test)\n",
        "#undo the scaling\n",
        "pred_price = scaler.inverse_transform(pred_price)\n",
        "print(pred_price)\n"
      ],
      "execution_count": 25,
      "outputs": [
        {
          "output_type": "stream",
          "text": [
            "[[37.953323]]\n"
          ],
          "name": "stdout"
        }
      ]
    },
    {
      "cell_type": "code",
      "metadata": {
        "id": "AFxNpNQ-71Vy",
        "colab_type": "code",
        "colab": {
          "base_uri": "https://localhost:8080/",
          "height": 84
        },
        "outputId": "69e5eaa2-b2a2-4b5c-9780-0849a3f2aa3e"
      },
      "source": [
        "#get the quote\n",
        "apple_quoate2 = web.DataReader('AMD', data_source='yahoo', start='2019-12-26', end='2019-12-31')\n",
        "print(apple_quoate2['Close'])"
      ],
      "execution_count": 26,
      "outputs": [
        {
          "output_type": "stream",
          "text": [
            "Date\n",
            "2019-12-26    46.630001\n",
            "2019-12-27    46.060001\n",
            "Name: Close, dtype: float64\n"
          ],
          "name": "stdout"
        }
      ]
    }
  ]
}